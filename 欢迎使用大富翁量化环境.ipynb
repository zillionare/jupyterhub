{
 "cells": [
  {
   "cell_type": "markdown",
   "id": "777e1d20",
   "metadata": {},
   "source": [
    "## 欢迎使用大富翁量化环境！\n",
    "\n",
    "在此环境中，您将能获取2005年以来的全部A股行情数据，粒度细至分钟线。本量化环境使用Jupyter Notebook构建，如果您还不太熟悉什么是Jupyter Notebook,可以阅读[超快上手Jupyter Notebook](https://zhuanlan.zhihu.com/p/32320214)。\n",
    "\n",
    "我们在examples下放了一些示例，以演示如何存取数据、开发策略以及进行回测。《Python量化金融实战》这门课的课件放在courseware目录下。这两个目录是只读目录。您可以修改这些示例文件，但无法保存。\n",
    "\n",
    "您可以在**根目录**下新建notebook文件。如果需要修改并保存示例文件，请将文件拷贝到此目录下，再进行修改和保存。您在保存文件的过程中，可能遇到payload too large错误提示，请按以下操作提示修复：\n",
    "\n",
    "<img src=\"https://images.jieyu.ai/images/2023/03/20230313103423.png\" />"
   ]
  },
  {
   "cell_type": "markdown",
   "id": "cde0f4bc",
   "metadata": {},
   "source": [
    "我们会不定时往examples和courseware目录更新和新增文件，请保持关注。欢迎访问我们的[官方网站](https://www.jieyu.ai)以获取课程、策略和电子书资源。您也可以扫描以下二维码关注我们。"
   ]
  },
  {
   "cell_type": "markdown",
   "id": "52b6a635",
   "metadata": {},
   "source": [
    "![](https://images.jieyu.ai/images/wechat_mp.jpg)"
   ]
  },
  {
   "cell_type": "code",
   "execution_count": null,
   "id": "39a842e1",
   "metadata": {},
   "outputs": [],
   "source": []
  }
 ],
 "metadata": {
  "kernelspec": {
   "display_name": "Python 3 (ipykernel)",
   "language": "python",
   "name": "python3"
  },
  "language_info": {
   "codemirror_mode": {
    "name": "ipython",
    "version": 3
   },
   "file_extension": ".py",
   "mimetype": "text/x-python",
   "name": "python",
   "nbconvert_exporter": "python",
   "pygments_lexer": "ipython3",
   "version": "3.8.10"
  }
 },
 "nbformat": 4,
 "nbformat_minor": 5
}
